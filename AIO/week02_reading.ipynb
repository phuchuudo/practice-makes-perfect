{
  "nbformat": 4,
  "nbformat_minor": 0,
  "metadata": {
    "colab": {
      "provenance": []
    },
    "kernelspec": {
      "name": "python3",
      "display_name": "Python 3"
    },
    "language_info": {
      "name": "python"
    }
  },
  "cells": [
    {
      "cell_type": "code",
      "source": [
        "# section 1\n",
        "lst_data = [x for x in range(1, 11)]\n",
        "print(lst_data)\n",
        "print(lst_data[:5])\n",
        "for x in lst_data:\n",
        "  if x % 2:\n",
        "    print(x, end = ' ')\n",
        "print()\n",
        "result = sum(lst_data)\n",
        "print(f'sum: = {result}')"
      ],
      "metadata": {
        "colab": {
          "base_uri": "https://localhost:8080/"
        },
        "id": "rBgwH3RR-6St",
        "outputId": "c98d2ebb-aff6-4771-a9af-b2ee8383e5fb"
      },
      "execution_count": 6,
      "outputs": [
        {
          "output_type": "stream",
          "name": "stdout",
          "text": [
            "[1, 2, 3, 4, 5, 6, 7, 8, 9, 10]\n",
            "[1, 2, 3, 4, 5]\n",
            "1 3 5 7 9 \n",
            "sum: = 55\n"
          ]
        }
      ]
    },
    {
      "cell_type": "code",
      "source": [
        "#section 2\n",
        "lst_data = [x for x in range(1, 13) if x % 2 == 0]\n",
        "print(lst_data)\n",
        "for x in lst_data:\n",
        "  if x % 3 == 0:\n",
        "    lst_data.remove(x)\n",
        "print(lst_data)\n",
        "for x in range(1, 4):\n",
        "  lst_data.append(x)\n",
        "cnt = 0\n",
        "for x in range(6, 9):\n",
        "  lst_data.insert(3 + cnt, x)\n",
        "  cnt += 1\n",
        "print(lst_data)\n",
        "for i in range(len(lst_data)):\n",
        "  if lst_data[i] % 2 == 0 or lst_data[i] % 5 == 0:\n",
        "    lst_data[i] = 0\n",
        "print(lst_data)"
      ],
      "metadata": {
        "colab": {
          "base_uri": "https://localhost:8080/"
        },
        "id": "1ZLXwllhAdYE",
        "outputId": "ff45a2c7-eab6-4483-fe62-5395ad020917"
      },
      "execution_count": 10,
      "outputs": [
        {
          "output_type": "stream",
          "name": "stdout",
          "text": [
            "[2, 4, 6, 8, 10, 12]\n",
            "[2, 4, 8, 10]\n",
            "[2, 4, 8, 6, 7, 8, 10, 1, 2, 3]\n",
            "[0, 0, 0, 0, 7, 0, 0, 1, 0, 3]\n"
          ]
        }
      ]
    },
    {
      "cell_type": "code",
      "source": [
        "# section 3\n",
        "def checkAms(x):\n",
        "  n = x\n",
        "  sum = 0\n",
        "  while(x > 0):\n",
        "    tmp = x % 10\n",
        "    sum += tmp ** 3\n",
        "    x //= 10\n",
        "  if sum == n:\n",
        "    return 1\n",
        "  return 0\n",
        "\n",
        "test_case_1 = [130, 270, 153, 407, 177, 371, 1000, 1634, 370]\n",
        "result = []\n",
        "for x in test_case_1:\n",
        "  if checkAms(x) == 1:\n",
        "    result.append(x)\n",
        "print(result)"
      ],
      "metadata": {
        "colab": {
          "base_uri": "https://localhost:8080/"
        },
        "id": "EUHRgk2BBCfS",
        "outputId": "0f841b5e-c006-47da-90bb-83c836036d55"
      },
      "execution_count": 17,
      "outputs": [
        {
          "output_type": "stream",
          "name": "stdout",
          "text": [
            "[153, 407, 371, 370]\n"
          ]
        }
      ]
    },
    {
      "cell_type": "code",
      "source": [
        "# section 4\n",
        "def check(candies, extraCandies):\n",
        "  n = len(candies)\n",
        "  mx = max(candies)\n",
        "  result = []\n",
        "  for i in range(n):\n",
        "    if candies[i] + extraCandies >= mx:\n",
        "      result.append(True)\n",
        "    else:\n",
        "      result.append(False)\n",
        "  return result\n",
        "\n",
        "test_case_1 = [2, 3, 5, 1, 3]\n",
        "extraCandies1 = 3\n",
        "print(check(test_case_1, extraCandies1))\n",
        "\n",
        "test_case_2 = [4, 2, 1, 1, 2]\n",
        "extraCandies2 = 1\n",
        "print(check(test_case_2, extraCandies2))\n",
        "\n",
        "test_case_3 = [12, 1, 12]\n",
        "extraCandies3 = 10\n",
        "print(check(test_case_3, extraCandies3))\n"
      ],
      "metadata": {
        "colab": {
          "base_uri": "https://localhost:8080/"
        },
        "id": "CHSNNgcbDBih",
        "outputId": "45557298-6f0f-4aa9-adb8-a5a6b1d096d3"
      },
      "execution_count": 19,
      "outputs": [
        {
          "output_type": "stream",
          "name": "stdout",
          "text": [
            "[True, True, True, False, True]\n",
            "[True, False, False, False, False]\n",
            "[True, False, True]\n"
          ]
        }
      ]
    },
    {
      "cell_type": "code",
      "source": [
        "# section 5\n",
        "lst_data = [x for x in range(1, 11)]\n",
        "n = len(lst_data)\n",
        "print(lst_data)\n",
        "\n",
        "median = 0\n",
        "if n % 2 == 1:\n",
        "  idx = n // 2\n",
        "  median = lst_data[idx]\n",
        "else:\n",
        "  idx1 = n // 2 - 1\n",
        "  idx2 = n // 2\n",
        "  median = (lst_data[idx1] + lst_data[idx2]) / 2\n",
        "\n",
        "print(median)\n"
      ],
      "metadata": {
        "colab": {
          "base_uri": "https://localhost:8080/"
        },
        "id": "hb3FdLaPE9jT",
        "outputId": "90bad791-d788-44b6-942f-426a0ee11baa"
      },
      "execution_count": 22,
      "outputs": [
        {
          "output_type": "stream",
          "name": "stdout",
          "text": [
            "[1, 2, 3, 4, 5, 6, 7, 8, 9, 10]\n",
            "5.5\n"
          ]
        }
      ]
    },
    {
      "cell_type": "code",
      "source": [
        "#section 6\n",
        "lst_data = [x for x in range(1, 11)]\n",
        "print(lst_data)\n",
        "k1 = 0\n",
        "sum1 = 0\n",
        "k2 = 0\n",
        "sum2 = 0\n",
        "\n",
        "for x in lst_data:\n",
        "  if x % 2:\n",
        "    k1 += 1\n",
        "    sum1 += x\n",
        "  else:\n",
        "    k2 += 1\n",
        "    sum2 += x\n",
        "\n",
        "print(f'Mean le: {round(sum1/k1, 2)}')\n",
        "print(f'Mean chan: {round(sum2/k2, 2)}')\n",
        "\n",
        "def get_mean_median(lst_data):\n",
        "  n = len(lst_data)\n",
        "  mean = 0\n",
        "  for x in lst_data:\n",
        "    mean += x\n",
        "  mean /= n\n",
        "  median = 0\n",
        "  if n % 2 == 0:\n",
        "    idx1 = n // 2 - 1\n",
        "    idx2 = n // 2\n",
        "    median = (lst_data[idx1] + lst_data[idx2]) / 2\n",
        "  else:\n",
        "    idx = n // 2\n",
        "    median = lst_data[idx]\n",
        "  return mean, median\n",
        "mean, median = get_mean_median(lst_data)\n",
        "print(f\"mean: {mean} and median = {median}\")"
      ],
      "metadata": {
        "colab": {
          "base_uri": "https://localhost:8080/"
        },
        "id": "Bzl90845F_L5",
        "outputId": "80fc6f5b-4736-4154-d71a-3a25297662db"
      },
      "execution_count": 30,
      "outputs": [
        {
          "output_type": "stream",
          "name": "stdout",
          "text": [
            "[1, 2, 3, 4, 5, 6, 7, 8, 9, 10]\n",
            "Mean le: 5.0\n",
            "Mean chan: 6.0\n",
            "mean: 5.5 and median = 5.5\n"
          ]
        }
      ]
    },
    {
      "cell_type": "code",
      "source": [
        "# section 7\n",
        "corpus = [\"Tôi thích môn Toán\", \"Tôi thích AI\", \"Tôi thích âm nhạc\"]\n",
        "dicts = {}\n",
        "\n",
        "for x in corpus:\n",
        "  tmp = x.split(\" \")\n",
        "  for y in tmp:\n",
        "    value = dicts.get(y)\n",
        "    if value:\n",
        "      dicts[y] = dicts[y] + 1\n",
        "    else:\n",
        "      dicts[y] = 1\n",
        "for key, value in dicts.items():\n",
        "  print(key, value)\n",
        "\n",
        "text = \"Tôi thích AI thích Toán\"\n",
        "output = []\n",
        "tmp = text.split(\" \")\n",
        "for x in tmp:\n",
        "  output.append(x)\n",
        "output = sorted(output)\n",
        "print(output)"
      ],
      "metadata": {
        "colab": {
          "base_uri": "https://localhost:8080/"
        },
        "id": "xE604hUAGmuK",
        "outputId": "502a2e61-dc0c-4cdc-831f-6f952b862cc9"
      },
      "execution_count": 40,
      "outputs": [
        {
          "output_type": "stream",
          "name": "stdout",
          "text": [
            "Tôi 3\n",
            "thích 3\n",
            "môn 1\n",
            "Toán 1\n",
            "AI 1\n",
            "âm 1\n",
            "nhạc 1\n",
            "['AI', 'Toán', 'Tôi', 'thích', 'thích']\n"
          ]
        }
      ]
    },
    {
      "cell_type": "code",
      "source": [
        "# section 8\n",
        "lst_data = [1, 1.1, None, 1.4, None, 1.5, None, 2.0]\n",
        "print(lst_data)\n",
        "for i in range(len(lst_data)):\n",
        "  if lst_data[i] == None:\n",
        "    lst_data[i] = lst_data[i-1]\n",
        "print(lst_data)"
      ],
      "metadata": {
        "colab": {
          "base_uri": "https://localhost:8080/"
        },
        "id": "I3RBug0aH4Up",
        "outputId": "8bdfb923-4689-4cad-e04d-245862838101"
      },
      "execution_count": 32,
      "outputs": [
        {
          "output_type": "stream",
          "name": "stdout",
          "text": [
            "[1, 1.1, None, 1.4, None, 1.5, None, 2.0]\n",
            "[1, 1.1, 1.1, 1.4, 1.4, 1.5, 1.5, 2.0]\n"
          ]
        }
      ]
    },
    {
      "cell_type": "code",
      "source": [
        "# section 9\n",
        "lst_data = [1, 1.1, None, 1.4, None, 1.5, None, 2.0]\n",
        "n = len(lst_data)\n",
        "ok = False\n",
        "for i in range(n):\n",
        "  if lst_data[i] == None:\n",
        "    print(f'index None: {i}')\n",
        "    ok = True\n",
        "    break\n",
        "if ok == False:\n",
        "  print(\"-1\")"
      ],
      "metadata": {
        "colab": {
          "base_uri": "https://localhost:8080/"
        },
        "id": "ewd68iEcIC-T",
        "outputId": "dc20d8e4-5fa6-4c7e-b0a2-7b9ee90b6d57"
      },
      "execution_count": 31,
      "outputs": [
        {
          "output_type": "stream",
          "name": "stdout",
          "text": [
            "index None: 2\n"
          ]
        }
      ]
    },
    {
      "cell_type": "code",
      "source": [
        "#section 10\n",
        "lst_data = [\n",
        "    [1, 2, 3],\n",
        "    [4, 5, 6],\n",
        "    [7, 8, 9]\n",
        "]\n",
        "lst_sub_data = []\n",
        "rows = len(lst_data)\n",
        "cols = len(lst_data[0])\n",
        "for i in range(rows):\n",
        "  tmp = []\n",
        "  for j in range(cols):\n",
        "    if j == 0 or j == cols - 1:\n",
        "      tmp.append(lst_data[i][j])\n",
        "  lst_sub_data.append(tmp)\n",
        "print(lst_sub_data)"
      ],
      "metadata": {
        "colab": {
          "base_uri": "https://localhost:8080/"
        },
        "id": "_rZA6hCkIFhG",
        "outputId": "fc40628d-912c-4f87-fd16-a6198d7a5ebd"
      },
      "execution_count": 42,
      "outputs": [
        {
          "output_type": "stream",
          "name": "stdout",
          "text": [
            "[[1, 3], [4, 6], [7, 9]]\n"
          ]
        }
      ]
    },
    {
      "cell_type": "code",
      "source": [
        "# section 11\n",
        "A = [\n",
        "    [1, 2, 3],\n",
        "    [4, 5, 6],\n",
        "    [7, 8, 9]\n",
        "]\n",
        "B = [\n",
        "    [2, 4, 6],\n",
        "    [1, 3, 5],\n",
        "    [1, 0 , 1]\n",
        "]\n",
        "\n",
        "rows = len(A)\n",
        "cols = len(A[0])\n",
        "res1 = [[0 for j in range(cols)] for i in range(rows)]\n",
        "res2 = [[0 for j in range(cols)] for i in range(rows)]\n",
        "res3 = [[0 for j in range(cols)] for i in range(rows)]\n",
        "\n",
        "\n",
        "for i in range(rows):\n",
        "  for j in range(cols):\n",
        "    res1[i][j] = A[i][j] + B[i][j]\n",
        "    res2[i][j] = A[i][j] - B[i][j]\n",
        "\n",
        "\n",
        "print(res1)\n",
        "print(res2)\n",
        "\n",
        "for i in range(rows):\n",
        "  for j in range(cols):\n",
        "    res3[i][j] = 0\n",
        "    for k in range(rows):\n",
        "      res3[i][j] += A[i][k] * B[k][j]\n",
        "print(res3)"
      ],
      "metadata": {
        "colab": {
          "base_uri": "https://localhost:8080/"
        },
        "id": "Vnkiq8L6IMSp",
        "outputId": "92971c8f-5448-432e-de31-9193e230b999"
      },
      "execution_count": 54,
      "outputs": [
        {
          "output_type": "stream",
          "name": "stdout",
          "text": [
            "[[3, 6, 9], [5, 8, 11], [8, 8, 10]]\n",
            "[[-1, -2, -3], [3, 2, 1], [6, 8, 8]]\n",
            "[[7, 10, 19], [19, 31, 55], [31, 52, 91]]\n"
          ]
        }
      ]
    },
    {
      "cell_type": "code",
      "source": [
        "#section 12\n",
        "stop_words = [\"I\", \"love\", \"and\", \"to\"]\n",
        "text = \"I love AI and listen to music\"\n",
        "spl = text.split(\" \")\n",
        "print(spl)\n",
        "\n",
        "i = 0\n",
        "\n",
        "while True:\n",
        "  x = spl[i]\n",
        "  ok = False\n",
        "  if x in stop_words:\n",
        "    ok = True\n",
        "  if ok == True:\n",
        "    spl.remove(x)\n",
        "  else:\n",
        "    i += 1\n",
        "  if i >= len(spl):\n",
        "    break\n",
        "print(spl)"
      ],
      "metadata": {
        "colab": {
          "base_uri": "https://localhost:8080/"
        },
        "id": "Fuqdx6pyINU6",
        "outputId": "794ae71f-948d-40dc-8f04-3baac8c0ad8a"
      },
      "execution_count": 75,
      "outputs": [
        {
          "output_type": "stream",
          "name": "stdout",
          "text": [
            "['I', 'love', 'AI', 'and', 'listen', 'to', 'music']\n",
            "['AI', 'listen', 'music']\n"
          ]
        }
      ]
    },
    {
      "cell_type": "code",
      "source": [
        "#section 13\n",
        "t1 = (2, 3)\n",
        "t2 = (3, 6)\n",
        "t3 = (t1[0] + t2[0], t1[1] + t2[1])\n",
        "print(t3)\n",
        "import math\n",
        "dis = math.sqrt((t1[0] - t2[0]) ** 2 + (t1[1] - t2[1]) ** 2)\n",
        "print(dis)\n",
        "\n",
        "print(t1.index(2))\n",
        "print(t2.index(6))"
      ],
      "metadata": {
        "colab": {
          "base_uri": "https://localhost:8080/"
        },
        "id": "2Z5GChW3IOPy",
        "outputId": "1cc3a86c-7aba-46db-dc24-568d726bb168"
      },
      "execution_count": 84,
      "outputs": [
        {
          "output_type": "stream",
          "name": "stdout",
          "text": [
            "(5, 9)\n",
            "3.1622776601683795\n",
            "0\n",
            "1\n"
          ]
        }
      ]
    },
    {
      "cell_type": "code",
      "source": [],
      "metadata": {
        "id": "9_8BzSGsTr31"
      },
      "execution_count": null,
      "outputs": []
    }
  ]
}