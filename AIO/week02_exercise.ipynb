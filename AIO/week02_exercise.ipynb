{
  "nbformat": 4,
  "nbformat_minor": 0,
  "metadata": {
    "colab": {
      "provenance": []
    },
    "kernelspec": {
      "name": "python3",
      "display_name": "Python 3"
    },
    "language_info": {
      "name": "python"
    }
  },
  "cells": [
    {
      "cell_type": "code",
      "execution_count": 1,
      "metadata": {
        "id": "WIYIHPNuUumD",
        "colab": {
          "base_uri": "https://localhost:8080/"
        },
        "outputId": "46bafe36-334b-4c70-9caa-7aac2f2ee67d"
      },
      "outputs": [
        {
          "output_type": "stream",
          "name": "stdout",
          "text": [
            "hello\n"
          ]
        }
      ],
      "source": [
        "print('hello')"
      ]
    },
    {
      "cell_type": "code",
      "source": [
        "# Question 1: Find the maximum value in each sliding window of size k in a list.\n",
        "\n",
        "# Original Solution:\n",
        "# - Uses nested loops to find the maximum in each window.\n",
        "# - Time complexity: O(n*k)\n",
        "def f1(lst_data, k):\n",
        "  \"\"\"\n",
        "  Finds the maximum value in each sliding window of size k in a list.\n",
        "\n",
        "  Args:\n",
        "    lst_data: The input list.\n",
        "    k: The size of the sliding window.\n",
        "\n",
        "  Returns:\n",
        "    A list containing the maximum value in each window.\n",
        "  \"\"\"\n",
        "  result = []\n",
        "  n = len(lst_data)\n",
        "  for i in range(n - k + 1):\n",
        "    mx = lst_data[i]\n",
        "    for j in range(i, i + k):\n",
        "      mx = max(lst_data[j], mx)\n",
        "    result.append(mx)\n",
        "  return result\n",
        "\n",
        "# Optimized Solution:\n",
        "# - Uses a single loop and keeps track of the maximum value so far.\n",
        "# - Time complexity: O(n)\n",
        "def f1_optimized(lst_data, k):\n",
        "  \"\"\"\n",
        "  Finds the maximum value in each sliding window of size k in a list (optimized).\n",
        "\n",
        "  Args:\n",
        "    lst_data: The input list.\n",
        "    k: The size of the sliding window.\n",
        "\n",
        "  Returns:\n",
        "    A list containing the maximum value in each window.\n",
        "  \"\"\"\n",
        "  n = len(lst_data)\n",
        "  result = []\n",
        "  max_so_far = max(lst_data[:k])  # Find maximum in the first window\n",
        "  result.append(max_so_far)\n",
        "\n",
        "  for i in range(k, n):\n",
        "    # Update max_so_far if the current element is greater\n",
        "    if lst_data[i] > max_so_far:\n",
        "      max_so_far = lst_data[i]\n",
        "    # If the element at the start of the window is the current maximum,\n",
        "    # it's no longer in the window, so find the new maximum\n",
        "    if lst_data[i - k] == max_so_far:\n",
        "      max_so_far = max(lst_data[i - k + 1: i + 1])\n",
        "    result.append(max_so_far)\n",
        "\n",
        "  return result\n",
        "\n",
        "# Example usage\n",
        "lst_data = [3, 4, 5, 1, -44 , 5 ,10, 12 ,33, 1]\n",
        "k = 3\n",
        "result1 = f1(lst_data, k)\n",
        "print(result1)  # Output: [5, 5, 5, 5, 10, 12, 33, 33]\n",
        "\n",
        "result2 = f1_optimized(lst_data, k)\n",
        "print(result2)  # Output: [5, 5, 5, 5, 10, 12, 33, 33]"
      ],
      "metadata": {
        "colab": {
          "base_uri": "https://localhost:8080/"
        },
        "id": "LI4g_RtpQf9h",
        "outputId": "ea33f783-1848-41f5-fd79-569712634b68"
      },
      "execution_count": 2,
      "outputs": [
        {
          "output_type": "stream",
          "name": "stdout",
          "text": [
            "[5, 5, 5, 5, 10, 12, 33, 33]\n",
            "[5, 5, 5, 5, 10, 12, 33, 33]\n"
          ]
        }
      ]
    },
    {
      "cell_type": "code",
      "source": [
        "# Question 2: Count the occurrences of each character in a string and print them in ascending order of frequency.\n",
        "\n",
        "def count_chars(text):\n",
        "  \"\"\"\n",
        "  Counts the occurrences of each character in a string and prints them in ascending order of frequency.\n",
        "\n",
        "  Args:\n",
        "    text: The input string.\n",
        "  \"\"\"\n",
        "  character_statistic = {}  # Initialize an empty dictionary to store character counts\n",
        "\n",
        "  # Count character occurrences\n",
        "  for char in text:\n",
        "    if char in character_statistic:\n",
        "      character_statistic[char] += 1  # Increment count if character already exists\n",
        "    else:\n",
        "      character_statistic[char] = 1  # Initialize count to 1 if character is new\n",
        "\n",
        "  # Sort the dictionary by frequency in ascending order\n",
        "  character_statistic = dict(sorted(character_statistic.items(), key=lambda x: x[1]))\n",
        "\n",
        "  # Print the character counts\n",
        "  for key, value in character_statistic.items():\n",
        "    print(f'{key}: {value}')\n",
        "\n",
        "# Example usage\n",
        "mystr = 'Happiness'\n",
        "count_chars(mystr)\n",
        "print()\n",
        "mystr = 'smiles'\n",
        "count_chars(mystr)"
      ],
      "metadata": {
        "colab": {
          "base_uri": "https://localhost:8080/"
        },
        "id": "ZCv6sshTSgBq",
        "outputId": "534428e9-de78-4acc-b8ba-5570e80291d3"
      },
      "execution_count": 3,
      "outputs": [
        {
          "output_type": "stream",
          "name": "stdout",
          "text": [
            "H: 1\n",
            "a: 1\n",
            "i: 1\n",
            "n: 1\n",
            "e: 1\n",
            "p: 2\n",
            "s: 2\n",
            "\n",
            "m: 1\n",
            "i: 1\n",
            "l: 1\n",
            "e: 1\n",
            "s: 2\n"
          ]
        }
      ]
    },
    {
      "cell_type": "code",
      "source": [
        "# question 3\n",
        "# Download the data file from Google Drive\n",
        "!gdown https://drive.google.com/uc?id=1IBScGdW2xlNsc9v5zSAya548kNgiOrko\n",
        "\n",
        "# Set the path to the downloaded file\n",
        "file_path = '/content/P1_data.txt'\n",
        "\n",
        "# Function to count word occurrences in a file\n",
        "def count_word(file_path):\n",
        "  \"\"\"\n",
        "  Counts the occurrences of each word in a text file.\n",
        "\n",
        "  Args:\n",
        "    file_path: The path to the text file.\n",
        "\n",
        "  Returns:\n",
        "    A dictionary where keys are words and values are their counts.\n",
        "  \"\"\"\n",
        "  counter = {}  # Initialize an empty dictionary to store word counts\n",
        "  with open(file_path, 'r') as file:  # Open the file in read mode\n",
        "    for line in file:  # Iterate through each line in the file\n",
        "      words = line.lower().split()  # Split the line into words (lowercase)\n",
        "      for word in words:  # Iterate through each word in the line\n",
        "        if word in counter:\n",
        "          counter[word] += 1  # Increment count if word already exists\n",
        "        else:\n",
        "          counter[word] = 1  # Initialize count to 1 if word is new\n",
        "  return counter\n",
        "\n",
        "# Call the function and print the word counts\n",
        "word_counts = count_word(file_path)\n",
        "print(word_counts)  # Print the dictionary of word counts"
      ],
      "metadata": {
        "colab": {
          "base_uri": "https://localhost:8080/"
        },
        "id": "RZhz8HKiUIwa",
        "outputId": "89274eb4-621d-444e-809e-83321b0e315f"
      },
      "execution_count": 4,
      "outputs": [
        {
          "output_type": "stream",
          "name": "stdout",
          "text": [
            "Downloading...\n",
            "From: https://drive.google.com/uc?id=1IBScGdW2xlNsc9v5zSAya548kNgiOrko\n",
            "To: /content/P1_data.txt\n",
            "\r  0% 0.00/747 [00:00<?, ?B/s]\r100% 747/747 [00:00<00:00, 2.70MB/s]\n",
            "{'he': 1, 'who': 3, 'conquers': 1, 'himself': 1, 'is': 3, 'the': 5, 'mightiest': 1, 'warrior': 1, 'try': 2, 'not': 1, 'to': 3, 'become': 2, 'a': 7, 'man': 6, 'of': 4, 'success': 3, 'but': 1, 'rather': 1, 'value': 1, 'one': 4, 'with': 4, 'courage': 1, 'makes': 1, 'majority': 1, 'secret': 1, 'in': 4, 'life': 2, 'for': 3, 'be': 1, 'ready': 1, 'his': 2, 'opportunity': 1, 'when': 2, 'it': 2, 'comes': 2, 'successful': 2, 'will': 2, 'profit': 1, 'from': 1, 'mistakes': 1, 'and': 1, 'again': 1, 'different': 1, 'way': 1, 'can': 3, 'lay': 1, 'firm': 1, 'foundation': 1, 'bricks': 1, 'others': 1, 'have': 1, 'thrown': 1, 'at': 1, 'him': 1, 'usually': 1, 'those': 1, 'are': 1, 'too': 1, 'busy': 1, 'looking': 1, 'we': 3, 'cannot': 1, 'solve': 1, 'problems': 1, 'kind': 1, 'thinking': 1, 'employed': 1, 'came': 1, 'up': 1, 'them': 1, 'just': 2, 'small': 1, 'positive': 1, 'thought': 1, 'morning': 1, 'change': 1, 'your': 1, 'whole': 1, 'day': 1, 'you': 3, 'get': 2, 'everything': 1, 'want': 2, 'if': 1, 'help': 1, 'enough': 1, 'other': 1, 'people': 1, 'what': 1, 'they': 1}\n"
          ]
        }
      ]
    },
    {
      "cell_type": "code",
      "source": [
        "#question 4\n",
        "\n",
        "def init(m, n):\n",
        "  \"\"\"Khởi tạo ma trận chi phí với kích thước m x n.\"\"\"\n",
        "  cnt = 0\n",
        "  D = [[0 for j in range(n)] for i in range(m)]\n",
        "  # Khởi tạo cột đầu tiên\n",
        "  for i in range(m):\n",
        "    D[i][0] = cnt\n",
        "    cnt += 1\n",
        "  # Khởi tạo hàng đầu tiên\n",
        "  cnt = 0\n",
        "  for j in range(n):\n",
        "    D[0][j] = cnt\n",
        "    cnt += 1\n",
        "  return D\n",
        "\n",
        "def disp(D, m, n):\n",
        "  \"\"\"Hiển thị ma trận chi phí.\"\"\"\n",
        "  for i in range(m):\n",
        "    for j in range(n):\n",
        "      print(D[i][j], end = \" \")\n",
        "    print()\n",
        "  print()\n",
        "\n",
        "def cost(char_at_i_source = \"#\", char_at_j_target = \"#\", name_of_operator = \"replace\"):\n",
        "  \"\"\"Tính chi phí của một thao tác.\"\"\"\n",
        "  if name_of_operator == \"del\":\n",
        "    return 1\n",
        "  elif name_of_operator == \"insert\":\n",
        "    return 1\n",
        "  elif name_of_operator == \"replace\":\n",
        "    if char_at_i_source == char_at_j_target:\n",
        "      return 0  # Chi phí bằng 0 nếu hai kí tự giống nhau\n",
        "    return 1  # Chi phí bằng 1 nếu hai kí tự khác nhau\n",
        "  else:\n",
        "    return 0\n",
        "\n",
        "def trace(D, m, n, source, target):\n",
        "  \"\"\"Truy vết các thao tác để chuyển đổi từ chuỗi nguồn sang chuỗi đích.\"\"\"\n",
        "  i = m - 1\n",
        "  j = n - 1\n",
        "  operations = []\n",
        "  while i > 0 or j > 0:\n",
        "    # Kiểm tra xem ô hiện tại được tính toán từ ô nào ở bước trước đó\n",
        "    if i > 0 and j > 0 and D[i][j] == D[i - 1][j - 1] + cost(source[i - 1], target[j - 1], \"replace\"):\n",
        "      # Thay thế kí tự\n",
        "      if source[i - 1] != target[j - 1]:\n",
        "        operations.append(f\"Replace {source[i - 1]} with {target[j - 1]}\")\n",
        "      i -= 1\n",
        "      j -= 1\n",
        "    elif i > 0 and D[i][j] == D[i - 1][j] + cost(name_of_operator = \"del\"):\n",
        "      # Xóa kí tự\n",
        "      operations.append(f\"Delete {source[i - 1]}\")\n",
        "      i -= 1\n",
        "    else:\n",
        "      # Chèn kí tự\n",
        "      operations.append(f\"Insert {target[j - 1]}\")\n",
        "      j -= 1\n",
        "  print(f\"tong chi phi: {D[m - 1][n - 1]}\")\n",
        "  print(\"Các bước chuyển đổi:\")\n",
        "  # In ra các thao tác theo thứ tự ngược lại\n",
        "  for operation in reversed(operations):\n",
        "    print(operation)\n",
        "\n",
        "\n",
        "\n",
        "def f4(source = \"yu\", target = \"you\"):\n",
        "  \"\"\"Tính toán edit distance và truy vết các thao tác.\"\"\"\n",
        "  m = len(source) + 1\n",
        "  n = len(target) + 1\n",
        "  D = init(m, n)\n",
        "\n",
        "  # Tính toán ma trận chi phí\n",
        "  for i in range(1, m):\n",
        "    for j in range(1, n):\n",
        "      D[i][j] = min(D[i-1][j] + cost(name_of_operator = \"del\"),\n",
        "                    D[i][j-1] + cost(name_of_operator = \"insert\"),\n",
        "                    D[i-1][j-1] + cost(source[i-1], target[j-1], \"replace\"))\n",
        "\n",
        "  print('fill value in D')\n",
        "  disp(D, m, n)\n",
        "  trace(D, m, n, source, target)\n",
        "\n",
        "\n",
        "f4()\n",
        "print(\"===================\")\n",
        "f4(\"love\", \"movie\")\n",
        "print(\"===================\")\n",
        "f4(\"horse\", \"ros\")\n",
        "print(\"===================\")\n",
        "f4(\"intention\", \"execution\")"
      ],
      "metadata": {
        "id": "M-Wsll13V47Z",
        "colab": {
          "base_uri": "https://localhost:8080/"
        },
        "outputId": "a731ba23-203c-42b0-dc0e-89bbb081fc88"
      },
      "execution_count": 45,
      "outputs": [
        {
          "output_type": "stream",
          "name": "stdout",
          "text": [
            "fill value in D\n",
            "0 1 2 3 \n",
            "1 0 1 2 \n",
            "2 1 1 1 \n",
            "\n",
            "tong chi phi: 1\n",
            "Các bước chuyển đổi:\n",
            "Insert o\n",
            "===================\n",
            "fill value in D\n",
            "0 1 2 3 4 5 \n",
            "1 1 2 3 4 5 \n",
            "2 2 1 2 3 4 \n",
            "3 3 2 1 2 3 \n",
            "4 4 3 2 2 2 \n",
            "\n",
            "tong chi phi: 2\n",
            "Các bước chuyển đổi:\n",
            "Replace l with m\n",
            "Insert i\n",
            "===================\n",
            "fill value in D\n",
            "0 1 2 3 \n",
            "1 1 2 3 \n",
            "2 2 1 2 \n",
            "3 2 2 2 \n",
            "4 3 3 2 \n",
            "5 4 4 3 \n",
            "\n",
            "tong chi phi: 3\n",
            "Các bước chuyển đổi:\n",
            "Replace h with r\n",
            "Delete r\n",
            "Delete e\n",
            "===================\n",
            "fill value in D\n",
            "0 1 2 3 4 5 6 7 8 9 \n",
            "1 1 2 3 4 5 6 6 7 8 \n",
            "2 2 2 3 4 5 6 7 7 7 \n",
            "3 3 3 3 4 5 5 6 7 8 \n",
            "4 3 4 3 4 5 6 6 7 8 \n",
            "5 4 4 4 4 5 6 7 7 7 \n",
            "6 5 5 5 5 5 5 6 7 8 \n",
            "7 6 6 6 6 6 6 5 6 7 \n",
            "8 7 7 7 7 7 7 6 5 6 \n",
            "9 8 8 8 8 8 8 7 6 5 \n",
            "\n",
            "tong chi phi: 5\n",
            "Các bước chuyển đổi:\n",
            "Replace i with e\n",
            "Replace n with x\n",
            "Replace t with e\n",
            "Replace e with c\n",
            "Replace n with u\n"
          ]
        }
      ]
    },
    {
      "cell_type": "code",
      "source": [
        "# trac nghiem 1\n",
        "assert f1_optimized([3 , 4 , 5 , 1 , -44], 3) == [5, 5, 5]\n",
        "num_list = [3, 4, 5, 1, -44 , 5 ,10, 12 ,33, 1]\n",
        "k = 3\n",
        "print(f1_optimized(num_list, k))\n",
        "# answer: A"
      ],
      "metadata": {
        "colab": {
          "base_uri": "https://localhost:8080/"
        },
        "id": "2iyTH0kpYCxg",
        "outputId": "af2bebae-b2f4-443a-e8dd-e4af9b3ec099"
      },
      "execution_count": 6,
      "outputs": [
        {
          "output_type": "stream",
          "name": "stdout",
          "text": [
            "[5, 5, 5, 5, 10, 12, 33, 33]\n"
          ]
        }
      ]
    },
    {
      "cell_type": "code",
      "source": [
        "#trac nghiem 2\n",
        "def character_count(text):\n",
        "  \"\"\"\n",
        "  Counts the occurrences of each character in a string and prints them in ascending order of frequency.\n",
        "\n",
        "  Args:\n",
        "    text: The input string.\n",
        "  \"\"\"\n",
        "  character_statistic = {}  # Initialize an empty dictionary to store character counts\n",
        "\n",
        "  # Count character occurrences\n",
        "  for char in text:\n",
        "    if char in character_statistic:\n",
        "      character_statistic[char] += 1  # Increment count if character already exists\n",
        "    else:\n",
        "      character_statistic[char] = 1  # Initialize count to 1 if character is new\n",
        "\n",
        "  # Sort the dictionary by frequency in ascending order\n",
        "  character_statistic = dict(sorted(character_statistic.items(), key=lambda x: x[1]))\n",
        "  return character_statistic\n",
        "\n",
        "character_count(\"Baby\") == {'B': 1, 'a': 1, 'b': 1, 'y': 1}\n",
        "print(character_count('smiles'))\n",
        "# answer: A"
      ],
      "metadata": {
        "colab": {
          "base_uri": "https://localhost:8080/"
        },
        "id": "VvGIjZNjYcFW",
        "outputId": "48a8daac-6b91-48cd-9078-d5d6ba9a795e"
      },
      "execution_count": 7,
      "outputs": [
        {
          "output_type": "stream",
          "name": "stdout",
          "text": [
            "{'m': 1, 'i': 1, 'l': 1, 'e': 1, 's': 2}\n"
          ]
        }
      ]
    },
    {
      "cell_type": "code",
      "source": [
        "# trac nghiem 3\n",
        "file_path = '/content/P1_data.txt'\n",
        "result = count_word(file_path)\n",
        "assert result['who'] == 3\n",
        "print(result['man'])\n",
        "# answer: C (6)"
      ],
      "metadata": {
        "colab": {
          "base_uri": "https://localhost:8080/"
        },
        "id": "Cydqi-1SYvM2",
        "outputId": "b21bfae5-e2a8-498a-ae4d-1afe655d1813"
      },
      "execution_count": 8,
      "outputs": [
        {
          "output_type": "stream",
          "name": "stdout",
          "text": [
            "6\n"
          ]
        }
      ]
    },
    {
      "cell_type": "code",
      "source": [
        "# trac nghiem 4\n",
        "def levenshtein_distance(source = \"yu\", target = \"you\"):\n",
        "  \"\"\"Tính toán edit distance và truy vết các thao tác.\"\"\"\n",
        "  m = len(source) + 1\n",
        "  n = len(target) + 1\n",
        "  D = init(m, n)\n",
        "\n",
        "  # Tính toán ma trận chi phí\n",
        "  for i in range(1, m):\n",
        "    for j in range(1, n):\n",
        "      D[i][j] = min(D[i-1][j] + cost(name_of_operator = \"del\"),\n",
        "                    D[i][j-1] + cost(name_of_operator = \"insert\"),\n",
        "                    D[i-1][j-1] + cost(source[i-1], target[j-1], \"replace\"))\n",
        "\n",
        "  return D[m-1][n-1]\n",
        "\n",
        "assert levenshtein_distance(\"hi\", \"hello\") == 4.0\n",
        "print(levenshtein_distance(\"hola\", \"hello\"))\n",
        "# answer: C (3.0)"
      ],
      "metadata": {
        "id": "puR9N6orZRVO",
        "colab": {
          "base_uri": "https://localhost:8080/"
        },
        "outputId": "6cdb39fb-ec49-4ba9-be09-62cae3c68e6b"
      },
      "execution_count": 47,
      "outputs": [
        {
          "output_type": "stream",
          "name": "stdout",
          "text": [
            "3\n"
          ]
        }
      ]
    },
    {
      "cell_type": "code",
      "source": [
        "# trac nghiem 5\n",
        "\n",
        "def check_the_number(N):\n",
        "  \"\"\"Kiểm tra xem N có nằm trong danh sách các số từ 1 đến 4 hay không.\n",
        "\n",
        "  Args:\n",
        "    N: Số cần kiểm tra.\n",
        "\n",
        "  Returns:\n",
        "    \"True\" nếu N nằm trong danh sách, \"False\" nếu không.\n",
        "  \"\"\"\n",
        "  list_of_numbers = []\n",
        "  results = \"\";\n",
        "  # Tạo danh sách các số từ 1 đến 4\n",
        "  for i in range(1, 5):\n",
        "    list_of_numbers.append(i)\n",
        "  # Kiểm tra xem N có nằm trong danh sách hay không\n",
        "  if N in list_of_numbers:\n",
        "    results = \"True\"\n",
        "  # Nếu N không nằm trong danh sách\n",
        "  if N not in list_of_numbers:\n",
        "    results = \"False\"\n",
        "  return results\n",
        "\n",
        "N = 7\n",
        "# Kiểm tra với N = 7, kết quả mong đợi là \"False\"\n",
        "assert check_the_number(N) == \"False\"\n",
        "N = 2\n",
        "# Gọi hàm check_the_number với N = 2\n",
        "results = check_the_number(N)\n",
        "# In kết quả\n",
        "print(results)\n",
        "# Đáp án: A"
      ],
      "metadata": {
        "id": "NsxNYDBdZdvo",
        "colab": {
          "base_uri": "https://localhost:8080/"
        },
        "outputId": "b6474ccf-7e1e-4ab9-ae83-097e46fe759f"
      },
      "execution_count": 85,
      "outputs": [
        {
          "output_type": "stream",
          "name": "stdout",
          "text": [
            "True\n"
          ]
        }
      ]
    },
    {
      "cell_type": "code",
      "source": [
        "# trac nghiem 6\n",
        "\n",
        "def my_function(data, max, min):\n",
        "  \"\"\"Hàm nhận vào một danh sách số, giá trị tối đa và tối thiểu,\n",
        "  sau đó trả về một danh sách mới với các giá trị được điều chỉnh\n",
        "  cho nằm trong phạm vi tối thiểu và tối đa.\n",
        "\n",
        "  Args:\n",
        "    data: Danh sách số cần điều chỉnh.\n",
        "    max: Giá trị tối đa.\n",
        "    min: Giá trị tối thiểu.\n",
        "\n",
        "  Returns:\n",
        "    Danh sách mới với các giá trị được điều chỉnh.\n",
        "  \"\"\"\n",
        "  result = []\n",
        "  # Duyệt qua từng phần tử trong danh sách data\n",
        "  for i in data:\n",
        "    # Nếu phần tử nhỏ hơn giá trị tối thiểu\n",
        "    if i < min:\n",
        "      # Thêm giá trị tối thiểu vào danh sách kết quả\n",
        "      result.append(min)\n",
        "    # Nếu phần tử lớn hơn giá trị tối đa\n",
        "    elif i > max:\n",
        "      # Thêm giá trị tối đa vào danh sách kết quả\n",
        "      result.append(max)\n",
        "    # Nếu phần tử nằm trong phạm vi tối thiểu và tối đa\n",
        "    else:\n",
        "      # Thêm phần tử vào danh sách kết quả\n",
        "      result.append(i)\n",
        "  # Trả về danh sách kết quả\n",
        "  return result\n",
        "\n",
        "my_list = [5, 2, 5, 0, 1]\n",
        "max = 1\n",
        "min = 0\n",
        "\n",
        "# Kiểm tra với danh sách my_list, max = 1 và min = 0, kết quả mong đợi là [1, 1, 1, 0, 1]\n",
        "assert my_function(max = max, min = min, data = my_list) == [1, 1, 1, 0, 1]\n",
        "my_list = [10, 2, 5, 0, 1]\n",
        "max = 2\n",
        "min = 1\n",
        "# Gọi hàm my_function với my_list, max = 2 và min = 1\n",
        "print(my_function(max = max, min = min, data = my_list))\n",
        "# Đáp án: C"
      ],
      "metadata": {
        "id": "LKepFEjhZnXH",
        "colab": {
          "base_uri": "https://localhost:8080/"
        },
        "outputId": "c39b3452-3ea2-4a25-c89f-53b760e557c8"
      },
      "execution_count": 86,
      "outputs": [
        {
          "output_type": "stream",
          "name": "stdout",
          "text": [
            "[2, 2, 2, 1, 1]\n"
          ]
        }
      ]
    },
    {
      "cell_type": "code",
      "source": [
        "# trac nghiem 7\n",
        "def my_function(x, y):\n",
        "  \"\"\"Hàm nối hai danh sách vào nhau bằng cách sử dụng phương thức extend().\n",
        "\n",
        "  Args:\n",
        "    x: Danh sách đầu tiên.\n",
        "    y: Danh sách thứ hai.\n",
        "\n",
        "  Returns:\n",
        "    Danh sách kết quả sau khi nối.\n",
        "  \"\"\"\n",
        "  x.extend(y)  # Nối danh sách y vào cuối danh sách x\n",
        "  return x  # Trả về danh sách x đã được nối\n",
        "\n",
        "list_num1 = ['a', 2, 5]\n",
        "list_num2 = [1, 1]\n",
        "list_num3 = [0, 0]\n",
        "\n",
        "# Kiểm tra với list_num1, list_num2 và list_num3, kết quả mong đợi là ['a', 2, 5, 1, 1, 0, 0]\n",
        "assert my_function(list_num1, my_function(list_num2, list_num3)) == ['a', 2, 5, 1, 1, 0, 0]\n",
        "list_num1 = [1, 2]\n",
        "list_num2 = [3, 4]\n",
        "list_num3 = [0, 0]\n",
        "# Gọi hàm my_function với list_num1, list_num2 và list_num3\n",
        "print(my_function(list_num1, my_function(list_num2, list_num3)))\n",
        "# Đáp án: A\n",
        "# extend: lấy từng phần tử của mỗi danh sách và thêm vào cuối danh sách đích\n",
        "# append: thêm đối tượng vào cuối danh sách"
      ],
      "metadata": {
        "id": "TLQIrnlyZoKv",
        "colab": {
          "base_uri": "https://localhost:8080/"
        },
        "outputId": "3a6ee2bd-b98f-4490-bb1b-6136f9721379"
      },
      "execution_count": 87,
      "outputs": [
        {
          "output_type": "stream",
          "name": "stdout",
          "text": [
            "[1, 2, 3, 4, 0, 0]\n"
          ]
        }
      ]
    },
    {
      "cell_type": "code",
      "source": [
        "# trac nghiem 8\n",
        "def min(a, b):\n",
        "  \"\"\"Hàm tìm giá trị nhỏ hơn trong hai số a và b.\n",
        "\n",
        "  Args:\n",
        "    a: Số thứ nhất.\n",
        "    b: Số thứ hai.\n",
        "\n",
        "  Returns:\n",
        "    Giá trị nhỏ hơn trong hai số a và b.\n",
        "  \"\"\"\n",
        "  if a < b:\n",
        "    return a\n",
        "  return b\n",
        "\n",
        "def my_function(my_list):\n",
        "  \"\"\"Hàm tìm giá trị nhỏ nhất trong một danh sách.\n",
        "\n",
        "  Args:\n",
        "    my_list: Danh sách số cần tìm giá trị nhỏ nhất.\n",
        "\n",
        "  Returns:\n",
        "    Giá trị nhỏ nhất trong danh sách.\n",
        "  \"\"\"\n",
        "  mn = my_list[0]  # Gán giá trị đầu tiên của danh sách cho mn\n",
        "  # Duyệt qua từng phần tử trong danh sách\n",
        "  for x in my_list:\n",
        "    # So sánh mn với phần tử hiện tại, cập nhật mn nếu cần\n",
        "    mn = min(mn, x)\n",
        "  return mn  # Trả về giá trị nhỏ nhất\n",
        "\n",
        "my_list = [1, 22, 93, -100]\n",
        "# Kiểm tra với danh sách my_list, kết quả mong đợi là -100\n",
        "assert my_function(my_list) == -100\n",
        "\n",
        "my_list = [1, 2, 3, -1]\n",
        "# Gọi hàm my_function với danh sách my_list\n",
        "print(my_function(my_list))\n",
        "# Đáp án: C (-1)"
      ],
      "metadata": {
        "id": "bfTAAHmlZrrX",
        "colab": {
          "base_uri": "https://localhost:8080/"
        },
        "outputId": "30f731b7-5807-4ec9-cb5a-aeac368a82c4"
      },
      "execution_count": 88,
      "outputs": [
        {
          "output_type": "stream",
          "name": "stdout",
          "text": [
            "-1\n"
          ]
        }
      ]
    },
    {
      "cell_type": "code",
      "source": [
        "# trac nghiem 9\n",
        "def max(a, b):\n",
        "  \"\"\"Hàm tìm giá trị lớn hơn trong hai số a và b.\n",
        "\n",
        "  Args:\n",
        "    a: Số thứ nhất.\n",
        "    b: Số thứ hai.\n",
        "\n",
        "  Returns:\n",
        "    Giá trị lớn hơn trong hai số a và b.\n",
        "  \"\"\"\n",
        "  if a > b:\n",
        "    return a\n",
        "  return b\n",
        "\n",
        "def my_function(my_list):\n",
        "  \"\"\"Hàm tìm giá trị lớn nhất trong một danh sách.\n",
        "\n",
        "  Args:\n",
        "    my_list: Danh sách số cần tìm giá trị lớn nhất.\n",
        "\n",
        "  Returns:\n",
        "    Giá trị lớn nhất trong danh sách.\n",
        "  \"\"\"\n",
        "  mn = my_list[0]  # Gán giá trị đầu tiên của danh sách cho mn\n",
        "  # Duyệt qua từng phần tử trong danh sách\n",
        "  for x in my_list:\n",
        "    # So sánh mn với phần tử hiện tại, cập nhật mn nếu cần\n",
        "    mn = max(mn, x)\n",
        "  return mn  # Trả về giá trị lớn nhất\n",
        "\n",
        "my_list = [1001, 9, 100, 0]\n",
        "# Kiểm tra với danh sách my_list, kết quả mong đợi là 1001\n",
        "assert my_function(my_list) == 1001\n",
        "\n",
        "my_list = [1, 9, 9, 0]\n",
        "# Gọi hàm my_function với danh sách my_list\n",
        "print(my_function(my_list))\n",
        "# Đáp án: D (9)"
      ],
      "metadata": {
        "id": "kvjO9OT-Zse4",
        "colab": {
          "base_uri": "https://localhost:8080/"
        },
        "outputId": "0be20670-11a2-4b9d-c7e7-a890cfc11a8f"
      },
      "execution_count": 90,
      "outputs": [
        {
          "output_type": "stream",
          "name": "stdout",
          "text": [
            "9\n"
          ]
        }
      ]
    },
    {
      "cell_type": "code",
      "source": [
        "# trac nghiem 10\n",
        "def My_function(integers, number = 1):\n",
        "  \"\"\"Kiểm tra xem danh sách 'integers' có chứa số 'number' hay không.\n",
        "\n",
        "  Args:\n",
        "    integers: Danh sách các số nguyên.\n",
        "    number: Số cần tìm trong danh sách.\n",
        "\n",
        "  Returns:\n",
        "    True nếu danh sách có chứa số 'number', False nếu không.\n",
        "  \"\"\"\n",
        "  n = len(integers)  # Lấy độ dài của danh sách\n",
        "  result = [False for i in range(n)]  # Tạo danh sách kết quả với giá trị False cho mỗi phần tử\n",
        "  for i in range(n):\n",
        "    # Duyệt qua từng phần tử trong danh sách\n",
        "    if integers[i] == number:  # Nếu phần tử bằng với số cần tìm\n",
        "      result[i] = True  # Thay đổi giá trị phần tử tương ứng trong danh sách kết quả thành True\n",
        "  return any(result)  # Trả về True nếu có ít nhất một phần tử trong danh sách kết quả là True, False nếu không\n",
        "\n",
        "my_list = [1, 3, 9, 4]\n",
        "# Kiểm tra với danh sách my_list và số cần tìm là -1, kết quả mong đợi là False\n",
        "assert My_function(my_list, -1) == False\n",
        "\n",
        "my_list = [1, 2, 3, 4]\n",
        "# Gọi hàm My_function với danh sách my_list và số cần tìm là 2\n",
        "print(My_function(my_list, 2))\n",
        "# Đáp án: True (C)"
      ],
      "metadata": {
        "id": "t9HRZHYWZtOH",
        "colab": {
          "base_uri": "https://localhost:8080/"
        },
        "outputId": "3025947a-4e02-4afe-f53a-e304b6aa910e"
      },
      "execution_count": 92,
      "outputs": [
        {
          "output_type": "stream",
          "name": "stdout",
          "text": [
            "True\n"
          ]
        }
      ]
    },
    {
      "cell_type": "code",
      "source": [
        "# trac nghiem 11\n",
        "def my_function(list_nums = [0, 1, 2]):\n",
        "  \"\"\"Hàm tính trung bình cộng của các số trong danh sách.\n",
        "\n",
        "  Args:\n",
        "    list_nums: Danh sách các số.\n",
        "\n",
        "  Returns:\n",
        "    Trung bình cộng của các số trong danh sách.\n",
        "  \"\"\"\n",
        "  var = 0  # Khởi tạo biến var bằng 0 để lưu tổng các số\n",
        "  for i in list_nums:  # Duyệt qua từng phần tử trong danh sách\n",
        "    var += i  # Cộng giá trị của phần tử vào biến var\n",
        "  return var / (len(list_nums))  # Trả về kết quả là tổng chia cho số lượng phần tử\n",
        "\n",
        "assert my_function([4, 6, 8]) == 6  # Kiểm tra với danh sách [4, 6, 8], kết quả mong đợi là 6\n",
        "print(my_function())  # Gọi hàm với danh sách mặc định [0, 1, 2]\n",
        "# Đáp án: 1.0 (A)"
      ],
      "metadata": {
        "id": "LdCGw7fpZuJp",
        "colab": {
          "base_uri": "https://localhost:8080/"
        },
        "outputId": "b73e0f08-a369-4cdc-b7e9-5cc7ed82e87d"
      },
      "execution_count": 93,
      "outputs": [
        {
          "output_type": "stream",
          "name": "stdout",
          "text": [
            "1.0\n"
          ]
        }
      ]
    },
    {
      "cell_type": "code",
      "source": [
        "# trac nghiem 12\n",
        "def my_function(data):\n",
        "  \"\"\"Hàm lọc các số chia hết cho 3 trong một danh sách.\n",
        "\n",
        "  Args:\n",
        "    data: Danh sách các số.\n",
        "\n",
        "  Returns:\n",
        "    Danh sách các số chia hết cho 3 trong danh sách đầu vào.\n",
        "  \"\"\"\n",
        "  var = []  # Khởi tạo danh sách rỗng để lưu trữ các số chia hết cho 3\n",
        "  for i in data:  # Duyệt qua từng phần tử trong danh sách\n",
        "    if i % 3 == 0:  # Kiểm tra xem phần tử có chia hết cho 3 hay không\n",
        "      var.append(i)  # Nếu chia hết cho 3, thêm phần tử vào danh sách var\n",
        "  return var  # Trả về danh sách var chứa các số chia hết cho 3\n",
        "\n",
        "assert my_function([3, 9, 4, 5]) == [3, 9]  # Kiểm tra với danh sách [3, 9, 4, 5], kết quả mong đợi là [3, 9]\n",
        "print(my_function([1, 2, 3, 5, 6]))  # Gọi hàm với danh sách [1, 2, 3, 5, 6]\n",
        "# Đáp án: A ([3, 6])"
      ],
      "metadata": {
        "id": "9VtcnrpmZu8_",
        "colab": {
          "base_uri": "https://localhost:8080/"
        },
        "outputId": "14ed8439-ff4e-4465-c313-740492f4090d"
      },
      "execution_count": 94,
      "outputs": [
        {
          "output_type": "stream",
          "name": "stdout",
          "text": [
            "[3, 6]\n"
          ]
        }
      ]
    },
    {
      "cell_type": "code",
      "source": [
        "# trac nghiem 13\n",
        "def my_function(y):\n",
        "  \"\"\"Hàm tính giai thừa của một số nguyên dương.\n",
        "\n",
        "  Args:\n",
        "    y: Số nguyên dương cần tính giai thừa.\n",
        "\n",
        "  Returns:\n",
        "    Giai thừa của y.\n",
        "  \"\"\"\n",
        "  var = 1  # Khởi tạo biến var bằng 1 để lưu kết quả giai thừa\n",
        "  while (y > 1):  # Lặp cho đến khi y bằng 1\n",
        "    var *= y  # Nhân var với y\n",
        "    y -= 1  # Giảm y đi 1\n",
        "  return var  # Trả về kết quả giai thừa\n",
        "\n",
        "assert my_function(8) == 40320  # Kiểm tra với y = 8, kết quả mong đợi là 40320\n",
        "print(my_function(4))  # Gọi hàm với y = 4\n",
        "# Đáp án: C (24)"
      ],
      "metadata": {
        "id": "YGF0wealZvzo",
        "colab": {
          "base_uri": "https://localhost:8080/"
        },
        "outputId": "c1de9c32-d5b0-4a74-c9cd-9ba45a4e3157"
      },
      "execution_count": 95,
      "outputs": [
        {
          "output_type": "stream",
          "name": "stdout",
          "text": [
            "24\n"
          ]
        }
      ]
    },
    {
      "cell_type": "code",
      "source": [
        "# trac nghiem 14\n",
        "def my_function(x):\n",
        "  \"\"\"Hàm đảo ngược chuỗi.\n",
        "\n",
        "  Args:\n",
        "    x: Chuỗi cần đảo ngược.\n",
        "\n",
        "  Returns:\n",
        "    Chuỗi đã được đảo ngược.\n",
        "  \"\"\"\n",
        "  return x[::-1]  # Sử dụng slicing để đảo ngược chuỗi, start=0, end=-1, step=-1\n",
        "\n",
        "x = 'I can do it'\n",
        "\n",
        "assert my_function(x)==\"ti od nac I\"  # Kiểm tra với x = 'I can do it', kết quả mong đợi là 'ti od nac I'\n",
        "\n",
        "x = 'apricot'\n",
        "print(my_function(x))  # Gọi hàm với x = 'apricot'\n",
        "# Đáp án: B"
      ],
      "metadata": {
        "id": "WqUWgsArZwyA",
        "colab": {
          "base_uri": "https://localhost:8080/"
        },
        "outputId": "b8200e79-1806-48ed-b9d7-8db88d8b7aa0"
      },
      "execution_count": 96,
      "outputs": [
        {
          "output_type": "stream",
          "name": "stdout",
          "text": [
            "tocirpa\n"
          ]
        }
      ]
    },
    {
      "cell_type": "code",
      "source": [
        "def function_helper(x):\n",
        "  \"\"\"Hàm kiểm tra xem một số có dương hay không.\n",
        "\n",
        "  Args:\n",
        "    x: Số cần kiểm tra.\n",
        "\n",
        "  Returns:\n",
        "    'T' nếu số dương, 'N' nếu số không dương.\n",
        "  \"\"\"\n",
        "  if x > 0:\n",
        "    return 'T'\n",
        "  else:\n",
        "    return 'N'\n",
        "\n",
        "\n",
        "def my_function(data):\n",
        "  \"\"\"Hàm kiểm tra xem các số trong danh sách có dương hay không.\n",
        "\n",
        "  Args:\n",
        "    data: Danh sách các số.\n",
        "\n",
        "  Returns:\n",
        "    Danh sách các kí tự 'T' hoặc 'N' tương ứng với mỗi số trong danh sách đầu vào, 'T' nếu dương, 'N' nếu không dương.\n",
        "  \"\"\"\n",
        "  res = [function_helper(x) for x in data]  # Sử dụng list comprehension để kiểm tra từng số trong danh sách\n",
        "  return res  # Trả về danh sách kết quả\n",
        "\n",
        "data = [10, 0, -10, -1]\n",
        "assert my_function(data) == ['T', 'N', 'N', 'N']  # Kiểm tra với danh sách [10, 0, -10, -1], kết quả mong đợi là ['T', 'N', 'N', 'N']\n",
        "\n",
        "data = [2, 3, 5, -1]\n",
        "print(my_function(data))  # Gọi hàm với danh sách [2, 3, 5, -1]\n",
        "# Đáp án: C"
      ],
      "metadata": {
        "id": "41-81IjaZx2e",
        "colab": {
          "base_uri": "https://localhost:8080/"
        },
        "outputId": "b5f107fd-a885-4308-e9d4-7717db8dd522"
      },
      "execution_count": 97,
      "outputs": [
        {
          "output_type": "stream",
          "name": "stdout",
          "text": [
            "['T', 'T', 'T', 'N']\n"
          ]
        }
      ]
    },
    {
      "cell_type": "code",
      "source": [
        "# trac nghiem 16\n",
        "def function_helper(x, data):\n",
        "  \"\"\"Kiểm tra xem một số có tồn tại trong danh sách hay không.\n",
        "\n",
        "  Args:\n",
        "    x: Số cần kiểm tra.\n",
        "    data: Danh sách các số.\n",
        "\n",
        "  Returns:\n",
        "    0 nếu số tồn tại trong danh sách, 1 nếu không.\n",
        "  \"\"\"\n",
        "  for i in data:\n",
        "    if x == i:\n",
        "      return 0\n",
        "  return 1\n",
        "\n",
        "def my_function(data):\n",
        "  \"\"\"Hàm lọc các số chưa xuất hiện trong danh sách kết quả.\n",
        "\n",
        "  Args:\n",
        "    data: Danh sách các số.\n",
        "\n",
        "  Returns:\n",
        "    Danh sách các số chưa xuất hiện trong danh sách kết quả.\n",
        "  \"\"\"\n",
        "  res = []  # Khởi tạo danh sách rỗng để lưu trữ các số chưa xuất hiện\n",
        "  for i in data:  # Duyệt qua từng phần tử trong danh sách\n",
        "    if function_helper(i, res):  # Kiểm tra xem phần tử hiện tại có tồn tại trong danh sách res hay không\n",
        "      res.append(i)  # Nếu không tồn tại, thêm phần tử vào danh sách res\n",
        "  return res  # Trả về danh sách res\n",
        "\n",
        "lst = [10, 10, 9, 7, 7]\n",
        "assert my_function(lst)==[10, 9, 7]  # Kiểm tra với danh sách [10, 10, 9, 7, 7], kết quả mong đợi là [10, 9, 7]\n",
        "\n",
        "lst = [9, 9, 8, 1, 1]\n",
        "print(my_function(lst))  # Gọi hàm với danh sách [9, 9, 8, 1, 1]\n",
        "# Đáp án: A"
      ],
      "metadata": {
        "id": "pxHgGtPtZyzH",
        "colab": {
          "base_uri": "https://localhost:8080/"
        },
        "outputId": "d9421039-be43-4e50-d25f-5498cc52e90f"
      },
      "execution_count": 99,
      "outputs": [
        {
          "output_type": "stream",
          "name": "stdout",
          "text": [
            "[9, 8, 1]\n"
          ]
        }
      ]
    },
    {
      "cell_type": "code",
      "source": [],
      "metadata": {
        "id": "XbcjIYdO8QUL"
      },
      "execution_count": null,
      "outputs": []
    }
  ]
}