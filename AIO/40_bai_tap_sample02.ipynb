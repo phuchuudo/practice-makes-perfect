{
  "nbformat": 4,
  "nbformat_minor": 0,
  "metadata": {
    "colab": {
      "provenance": []
    },
    "kernelspec": {
      "name": "python3",
      "display_name": "Python 3"
    },
    "language_info": {
      "name": "python"
    }
  },
  "cells": [
    {
      "cell_type": "code",
      "execution_count": null,
      "metadata": {
        "id": "-evYrNWQYZxw",
        "colab": {
          "base_uri": "https://localhost:8080/"
        },
        "outputId": "3cf58840-5e64-4070-cfb2-b43e342b1f77"
      },
      "outputs": [
        {
          "output_type": "stream",
          "name": "stdout",
          "text": [
            "Vo nghiem\n",
            "Co 2 nghiem, x1 = -2.5 va x2 = 1.0\n",
            "Co nghiem: -1.67\n",
            "Vo nghiem\n",
            "Co 2 nghiem, x1 = -2.0 va x2 = -1.0\n"
          ]
        }
      ],
      "source": [
        "# question 1\n",
        "import math\n",
        "def f1(a, b):\n",
        "  if a == 0:\n",
        "    if b == 0:\n",
        "      print(\"Vo so nghiem\")\n",
        "    else:\n",
        "      print(\"Vo nghiem\")\n",
        "  else:\n",
        "    print(f\"Co nghiem: {round(-b/a, 2)}\")\n",
        "\n",
        "def f2(a, b, c):\n",
        "  if a == 0:\n",
        "    f1(b, c)\n",
        "  else:\n",
        "    delta = b * b - 4 * a * c\n",
        "    if delta < 0:\n",
        "      print(\"Vo nghiem\")\n",
        "    elif delta == 0:\n",
        "      print(f\"Co nghiem kep: {round(-b/(2 * a), 2)}\")\n",
        "    else:\n",
        "      x1 = (-b - math.sqrt(delta)) / (2 * a)\n",
        "      x2 = (-b + math.sqrt(delta)) / (2 * a)\n",
        "      print(f\"Co 2 nghiem, x1 = {round(x1, 2)} va x2 = {round(x2, 2)}\")\n",
        "\n",
        "f2(1, 2, 3)\n",
        "f2(2, 3, -5)\n",
        "f2(0, 3, 5)\n",
        "f2(4, 6, 3)\n",
        "f2(2, 6, 4)\n"
      ]
    },
    {
      "cell_type": "code",
      "source": [
        "# quesstion 2\n",
        "lst_data = [i for i in range(1, 13) if i % 2 == 0]\n",
        "print(lst_data)\n",
        "\n",
        "for x in lst_data:\n",
        "  if x % 3 == 0:\n",
        "    lst_data.remove(x)\n",
        "print(lst_data)\n",
        "\n",
        "for i in range(1, 4):\n",
        "  lst_data.append(i)\n",
        "print(lst_data)\n",
        "\n",
        "cnt = 0\n",
        "for i in range(6, 9):\n",
        "  lst_data.insert(3 + cnt, i)\n",
        "  cnt += 1\n",
        "print(lst_data)\n",
        "\n",
        "for i in range(len(lst_data)):\n",
        "  if lst_data[i] % 2 == 0 or lst_data[i] % 5 == 0:\n",
        "    lst_data[i] = 0\n",
        "print(lst_data)"
      ],
      "metadata": {
        "colab": {
          "base_uri": "https://localhost:8080/"
        },
        "id": "3tauiyUrybm6",
        "outputId": "75deb163-cd12-4026-db96-c7f0103c0a7d"
      },
      "execution_count": null,
      "outputs": [
        {
          "output_type": "stream",
          "name": "stdout",
          "text": [
            "[2, 4, 6, 8, 10, 12]\n",
            "[2, 4, 8, 10]\n",
            "[2, 4, 8, 10, 1, 2, 3]\n",
            "[2, 4, 8, 6, 7, 8, 10, 1, 2, 3]\n",
            "[0, 0, 0, 0, 7, 0, 0, 1, 0, 3]\n"
          ]
        }
      ]
    },
    {
      "cell_type": "code",
      "source": [
        "# question 3\n",
        "lst_data = [x for x in range(1, 11)]\n",
        "print(lst_data)\n",
        "median = 0\n",
        "n = len(lst_data)\n",
        "if n % 2 == 0:\n",
        "  idx1 = n // 2 - 1\n",
        "  idx2 = n // 2\n",
        "  median = (lst_data[idx1] + lst_data[idx2]) / 2\n",
        "else:\n",
        "  idx = n // 2\n",
        "  median = lst_data[idx]\n",
        "\n",
        "print(median)\n",
        "\n",
        "lst_odd_filter = [x for x in lst_data if x % 2 == 1]\n",
        "print(lst_odd_filter)\n",
        "\n",
        "lst_odd_filter = sorted(lst_odd_filter, reverse=True)\n",
        "print(lst_odd_filter)"
      ],
      "metadata": {
        "id": "Z0l4xfthzkUQ",
        "colab": {
          "base_uri": "https://localhost:8080/"
        },
        "outputId": "5910bdf9-45c2-4f9a-d299-154b088a75ee"
      },
      "execution_count": 31,
      "outputs": [
        {
          "output_type": "stream",
          "name": "stdout",
          "text": [
            "[1, 2, 3, 4, 5, 6, 7, 8, 9, 10]\n",
            "5.5\n",
            "[1, 3, 5, 7, 9]\n",
            "[9, 7, 5, 3, 1]\n"
          ]
        }
      ]
    },
    {
      "cell_type": "code",
      "source": [
        "#question 4\n",
        "lst_data = [1, 1.1, None, 1.4, None, 1.5, None, 2.0]\n",
        "print(lst_data)\n",
        "for i in range(len(lst_data)):\n",
        "  if lst_data[i] == None:\n",
        "    lst_data[i] = lst_data[i-1]\n",
        "print(lst_data)"
      ],
      "metadata": {
        "colab": {
          "base_uri": "https://localhost:8080/"
        },
        "id": "R7U8qAJs3u_D",
        "outputId": "57b73f25-d6a1-4166-a1a8-148fdc4b6412"
      },
      "execution_count": 34,
      "outputs": [
        {
          "output_type": "stream",
          "name": "stdout",
          "text": [
            "[1, 1.1, None, 1.4, None, 1.5, None, 2.0]\n",
            "[1, 1.1, 1.1, 1.4, 1.4, 1.5, 1.5, 2.0]\n"
          ]
        }
      ]
    },
    {
      "cell_type": "code",
      "source": [
        "# question 5\n",
        "lst_data = [1, 1.1, None, 1.4, None, 1.5, None, 2.0]\n",
        "n = len(lst_data)\n",
        "ok = False\n",
        "for i in range(n):\n",
        "  if lst_data[i] == None:\n",
        "    print(f'index None: {i}')\n",
        "    ok = True\n",
        "    break\n",
        "if ok == False:\n",
        "  print(\"-1\")"
      ],
      "metadata": {
        "colab": {
          "base_uri": "https://localhost:8080/"
        },
        "id": "grJmn8SM8fAL",
        "outputId": "981926bb-f096-43c6-9229-cc5c96b19e26"
      },
      "execution_count": 37,
      "outputs": [
        {
          "output_type": "stream",
          "name": "stdout",
          "text": [
            "index None: 2\n"
          ]
        }
      ]
    },
    {
      "cell_type": "code",
      "source": [
        "# question 6\n"
      ],
      "metadata": {
        "id": "VXb1sBwU-NSx"
      },
      "execution_count": null,
      "outputs": []
    }
  ]
}